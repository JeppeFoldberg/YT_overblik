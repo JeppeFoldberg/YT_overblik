{
 "cells": [
  {
   "cell_type": "code",
   "execution_count": 9,
   "metadata": {},
   "outputs": [],
   "source": [
    "import matplotlib.pyplot as plt\n",
    "import matplotlib.animation as ani\n",
    "import pandas as pd\n",
    "import numpy as np\n",
    "%matplotlib inline"
   ]
  },
  {
   "cell_type": "code",
   "execution_count": 10,
   "metadata": {},
   "outputs": [
    {
     "data": {
      "text/html": [
       "<div>\n",
       "<style scoped>\n",
       "    .dataframe tbody tr th:only-of-type {\n",
       "        vertical-align: middle;\n",
       "    }\n",
       "\n",
       "    .dataframe tbody tr th {\n",
       "        vertical-align: top;\n",
       "    }\n",
       "\n",
       "    .dataframe thead th {\n",
       "        text-align: right;\n",
       "    }\n",
       "</style>\n",
       "<table border=\"1\" class=\"dataframe\">\n",
       "  <thead>\n",
       "    <tr style=\"text-align: right;\">\n",
       "      <th></th>\n",
       "      <th>video_title</th>\n",
       "      <th>video_id</th>\n",
       "      <th>channel_title</th>\n",
       "      <th>channel_link</th>\n",
       "      <th>date_watched</th>\n",
       "      <th>channel_id</th>\n",
       "      <th>published_date</th>\n",
       "      <th>description</th>\n",
       "      <th>thumbnail</th>\n",
       "      <th>tag</th>\n",
       "    </tr>\n",
       "  </thead>\n",
       "  <tbody>\n",
       "    <tr>\n",
       "      <th>0</th>\n",
       "      <td>Schrödinger's Levels - Astortion Devlog</td>\n",
       "      <td>oPpzT6JKGk0</td>\n",
       "      <td>aarthificial</td>\n",
       "      <td>https://www.youtube.com/channel/UCtEwVJZABCd0t...</td>\n",
       "      <td>2022-08-09 13:27:58+02:00</td>\n",
       "      <td>UCtEwVJZABCd0tels2KIpKGQ</td>\n",
       "      <td>2022-07-30T14:59:48Z</td>\n",
       "      <td>=== Wishlist Astortion on Steam ===\\nhttps://s...</td>\n",
       "      <td>https://i.ytimg.com/vi/oPpzT6JKGk0/hqdefault.jpg</td>\n",
       "      <td>['game dev', 'devlog', 'dev log', 'programming...</td>\n",
       "    </tr>\n",
       "    <tr>\n",
       "      <th>1</th>\n",
       "      <td>John mayer - neon (after 2 years of practice)</td>\n",
       "      <td>dfjTp8YdNgk</td>\n",
       "      <td>אביה מילר</td>\n",
       "      <td>https://www.youtube.com/channel/UC-z1y3pCBSgTT...</td>\n",
       "      <td>2022-08-09 13:27:39+02:00</td>\n",
       "      <td>UC-z1y3pCBSgTT30ft7BVmRQ</td>\n",
       "      <td>2022-06-26T18:23:37Z</td>\n",
       "      <td>NaN</td>\n",
       "      <td>https://i.ytimg.com/vi/dfjTp8YdNgk/hqdefault.jpg</td>\n",
       "      <td>NaN</td>\n",
       "    </tr>\n",
       "    <tr>\n",
       "      <th>2</th>\n",
       "      <td>Are Chinese watches worth it?</td>\n",
       "      <td>HljYyn8U4a0</td>\n",
       "      <td>Talking Timepieces</td>\n",
       "      <td>https://www.youtube.com/channel/UCQkmGbeY6QVgw...</td>\n",
       "      <td>2022-08-09 13:13:38+02:00</td>\n",
       "      <td>UCQkmGbeY6QVgwUyIzJ6LbIg</td>\n",
       "      <td>2021-03-03T13:30:50Z</td>\n",
       "      <td>In this episode of #TalkingTimepieces​ we look...</td>\n",
       "      <td>https://i.ytimg.com/vi/HljYyn8U4a0/hqdefault.jpg</td>\n",
       "      <td>NaN</td>\n",
       "    </tr>\n",
       "    <tr>\n",
       "      <th>3</th>\n",
       "      <td>An Intricate $180 Beauty! | The Sugess Moonpha...</td>\n",
       "      <td>O50euB79Jjc</td>\n",
       "      <td>Tone</td>\n",
       "      <td>https://www.youtube.com/channel/UCn0vfLJzUsCFu...</td>\n",
       "      <td>2022-08-09 09:46:47+02:00</td>\n",
       "      <td>UCn0vfLJzUsCFuRwEiBf7TSw</td>\n",
       "      <td>2021-09-15T01:17:24Z</td>\n",
       "      <td>Good day all, in this video, I showcase the Br...</td>\n",
       "      <td>https://i.ytimg.com/vi/O50euB79Jjc/hqdefault.jpg</td>\n",
       "      <td>['watch', 'watches', 'moonphase', 'cheap watch...</td>\n",
       "    </tr>\n",
       "    <tr>\n",
       "      <th>4</th>\n",
       "      <td>Corgeut Seamaster 300 Spectre v Omega Seamaste...</td>\n",
       "      <td>93v5Bso2NDU</td>\n",
       "      <td>Wonder of Watches</td>\n",
       "      <td>https://www.youtube.com/channel/UCCPbvLaMx8P-c...</td>\n",
       "      <td>2022-08-09 09:45:38+02:00</td>\n",
       "      <td>UCCPbvLaMx8P-ccHDKWQ2agw</td>\n",
       "      <td>2020-08-07T22:33:58Z</td>\n",
       "      <td>Corgeut Seamaster 300 Homage Review\\n\\nToday I...</td>\n",
       "      <td>https://i.ytimg.com/vi/93v5Bso2NDU/hqdefault.jpg</td>\n",
       "      <td>['Corgeut', 'corgeut seamaster', 'corgeut seam...</td>\n",
       "    </tr>\n",
       "  </tbody>\n",
       "</table>\n",
       "</div>"
      ],
      "text/plain": [
       "                                         video_title     video_id  \\\n",
       "0            Schrödinger's Levels - Astortion Devlog  oPpzT6JKGk0   \n",
       "1      John mayer - neon (after 2 years of practice)  dfjTp8YdNgk   \n",
       "2                      Are Chinese watches worth it?  HljYyn8U4a0   \n",
       "3  An Intricate $180 Beauty! | The Sugess Moonpha...  O50euB79Jjc   \n",
       "4  Corgeut Seamaster 300 Spectre v Omega Seamaste...  93v5Bso2NDU   \n",
       "\n",
       "        channel_title                                       channel_link  \\\n",
       "0        aarthificial  https://www.youtube.com/channel/UCtEwVJZABCd0t...   \n",
       "1           אביה מילר  https://www.youtube.com/channel/UC-z1y3pCBSgTT...   \n",
       "2  Talking Timepieces  https://www.youtube.com/channel/UCQkmGbeY6QVgw...   \n",
       "3                Tone  https://www.youtube.com/channel/UCn0vfLJzUsCFu...   \n",
       "4   Wonder of Watches  https://www.youtube.com/channel/UCCPbvLaMx8P-c...   \n",
       "\n",
       "                date_watched                channel_id        published_date  \\\n",
       "0  2022-08-09 13:27:58+02:00  UCtEwVJZABCd0tels2KIpKGQ  2022-07-30T14:59:48Z   \n",
       "1  2022-08-09 13:27:39+02:00  UC-z1y3pCBSgTT30ft7BVmRQ  2022-06-26T18:23:37Z   \n",
       "2  2022-08-09 13:13:38+02:00  UCQkmGbeY6QVgwUyIzJ6LbIg  2021-03-03T13:30:50Z   \n",
       "3  2022-08-09 09:46:47+02:00  UCn0vfLJzUsCFuRwEiBf7TSw  2021-09-15T01:17:24Z   \n",
       "4  2022-08-09 09:45:38+02:00  UCCPbvLaMx8P-ccHDKWQ2agw  2020-08-07T22:33:58Z   \n",
       "\n",
       "                                         description  \\\n",
       "0  === Wishlist Astortion on Steam ===\\nhttps://s...   \n",
       "1                                                NaN   \n",
       "2  In this episode of #TalkingTimepieces​ we look...   \n",
       "3  Good day all, in this video, I showcase the Br...   \n",
       "4  Corgeut Seamaster 300 Homage Review\\n\\nToday I...   \n",
       "\n",
       "                                          thumbnail  \\\n",
       "0  https://i.ytimg.com/vi/oPpzT6JKGk0/hqdefault.jpg   \n",
       "1  https://i.ytimg.com/vi/dfjTp8YdNgk/hqdefault.jpg   \n",
       "2  https://i.ytimg.com/vi/HljYyn8U4a0/hqdefault.jpg   \n",
       "3  https://i.ytimg.com/vi/O50euB79Jjc/hqdefault.jpg   \n",
       "4  https://i.ytimg.com/vi/93v5Bso2NDU/hqdefault.jpg   \n",
       "\n",
       "                                                 tag  \n",
       "0  ['game dev', 'devlog', 'dev log', 'programming...  \n",
       "1                                                NaN  \n",
       "2                                                NaN  \n",
       "3  ['watch', 'watches', 'moonphase', 'cheap watch...  \n",
       "4  ['Corgeut', 'corgeut seamaster', 'corgeut seam...  "
      ]
     },
     "execution_count": 10,
     "metadata": {},
     "output_type": "execute_result"
    }
   ],
   "source": [
    "df = pd.read_csv('../Renset data/history_w_videoinfo.csv', index_col=0)\n",
    "\n",
    "df.head()"
   ]
  },
  {
   "cell_type": "markdown",
   "metadata": {},
   "source": [
    "## Tutorial"
   ]
  },
  {
   "cell_type": "code",
   "execution_count": 11,
   "metadata": {},
   "outputs": [],
   "source": [
    "url = 'https://raw.githubusercontent.com/CSSEGISandData/COVID-19/master/csse_covid_19_data/csse_covid_19_time_series/time_series_covid19_deaths_global.csv'\n",
    "df = pd.read_csv(url, delimiter=',', header='infer')"
   ]
  },
  {
   "cell_type": "code",
   "execution_count": 12,
   "metadata": {},
   "outputs": [],
   "source": [
    "df_interest = df.loc[\n",
    "    df['Country/Region'].isin(['United Kingdom', 'US', 'Italy', 'Germany'])\n",
    "    & df['Province/State'].isna()]"
   ]
  },
  {
   "cell_type": "code",
   "execution_count": 13,
   "metadata": {},
   "outputs": [
    {
     "name": "stderr",
     "output_type": "stream",
     "text": [
      "/var/folders/tq/mmh1nq5157j8h6vvpxx3kx7c0000gn/T/ipykernel_39643/1643503374.py:1: SettingWithCopyWarning: \n",
      "A value is trying to be set on a copy of a slice from a DataFrame\n",
      "\n",
      "See the caveats in the documentation: https://pandas.pydata.org/pandas-docs/stable/user_guide/indexing.html#returning-a-view-versus-a-copy\n",
      "  df_interest.rename(\n"
     ]
    }
   ],
   "source": [
    "df_interest.rename(\n",
    "    index=lambda x: df_interest.at[x, 'Country/Region'], inplace=True)\n",
    "\n",
    "df1 = df_interest.transpose()"
   ]
  },
  {
   "cell_type": "code",
   "execution_count": 14,
   "metadata": {},
   "outputs": [],
   "source": [
    "df1 = df1.drop(['Province/State', 'Country/Region', 'Lat', 'Long'])\n",
    "df1 = df1.loc[(df1 != 0).any(1)]\n",
    "df1.index = pd.to_datetime(df1.index)"
   ]
  },
  {
   "cell_type": "code",
   "execution_count": 15,
   "metadata": {},
   "outputs": [
    {
     "data": {
      "text/plain": [
       "Text(0.5, 0, 'Dates')"
      ]
     },
     "execution_count": 15,
     "metadata": {},
     "output_type": "execute_result"
    },
    {
     "data": {
      "image/png": "[encoded data removed]",
      "text/plain": [
       "<Figure size 432x288 with 1 Axes>"
      ]
     },
     "metadata": {
      "needs_background": "light"
     },
     "output_type": "display_data"
    }
   ],
   "source": [
    "color = ['red', 'green', 'blue', 'orange']\n",
    "\n",
    "fig = plt.figure()\n",
    "\n",
    "plt.xticks(rotation=45, ha=\"right\", rotation_mode=\"anchor\") #rotate the x-axis values\n",
    "plt.subplots_adjust(bottom = 0.2, top = 0.9) #ensuring the dates (on the x-axis) fit in the screen\n",
    "\n",
    "plt.ylabel('No of Deaths')\n",
    "plt.xlabel('Dates')"
   ]
  },
  {
   "cell_type": "code",
   "execution_count": 16,
   "metadata": {},
   "outputs": [
    {
     "name": "stderr",
     "output_type": "stream",
     "text": [
      "/Users/jeppefoldberg/miniforge3/envs/yt_overblik/lib/python3.10/site-packages/matplotlib/animation.py:887: UserWarning: Animation was deleted without rendering anything. This is most likely not intended. To prevent deletion, assign the Animation to a variable, e.g. `anim`, that exists until you have outputted the Animation using `plt.show()` or `anim.save()`.\n",
      "  warnings.warn(\n"
     ]
    }
   ],
   "source": [
    "def buildmebarchart(i=int):\n",
    "    plt.legend(df1.columns)\n",
    "    p = plt.plot(df1[:i].index, df1[:i].values) #note it only returns the dataset, up to the point i\n",
    "    for i in range(0,4):\n",
    "        p[i].set_color(color[i]) #set the colour of each curve\n",
    "\n",
    "anim = ani.FuncAnimation(fig, buildmebarchart, interval = 100)\n",
    "\n",
    "plt.show()"
   ]
  },
  {
   "cell_type": "code",
   "execution_count": 20,
   "metadata": {},
   "outputs": [
    {
     "data": {
      "image/png": "[encoded data removed]",
      "text/plain": [
       "<Figure size 432x288 with 1 Axes>"
      ]
     },
     "metadata": {
      "needs_background": "light"
     },
     "output_type": "display_data"
    }
   ],
   "source": [
    "fig, ax = plt.subplots()\n",
    "xdata, ydata = [], []\n",
    "ln, = plt.plot([], [], 'ro')\n",
    "\n",
    "def init():\n",
    "    ax.set_xlim(0, 2*np.pi)\n",
    "    ax.set_ylim(-1, 1)\n",
    "    return ln,\n",
    "\n",
    "def update(frame):\n",
    "    xdata.append(frame)\n",
    "    ydata.append(np.sin(frame))\n",
    "    ln.set_data(xdata, ydata)\n",
    "    return ln,\n",
    "\n",
    "anim = ani.FuncAnimation(fig, update, frames=np.linspace(0, 2*np.pi, 128),\n",
    "                    init_func=init, blit=True)\n",
    "\n",
    "# anim.save(\"test.gif\")\n",
    "# plt.show()\n"
   ]
  },
  {
   "cell_type": "code",
   "execution_count": 21,
   "metadata": {},
   "outputs": [],
   "source": [
    "plt.show()\n"
   ]
  },
  {
   "cell_type": "code",
   "execution_count": null,
   "metadata": {},
   "outputs": [],
   "source": []
  }
 ],
 "metadata": {
  "kernelspec": {
   "display_name": "Python 3 (ipykernel)",
   "language": "python",
   "name": "python3"
  },
  "language_info": {
   "codemirror_mode": {
    "name": "ipython",
    "version": 3
   },
   "file_extension": ".py",
   "mimetype": "text/x-python",
   "name": "python",
   "nbconvert_exporter": "python",
   "pygments_lexer": "ipython3",
   "version": "3.10.5"
  },
  "vscode": {
   "interpreter": {
    "hash": "79533c0d0a233a1445e6036526d0f86e3fa1cf746f28d46beb4a448a63b5bfb4"
   }
  }
 },
 "nbformat": 4,
 "nbformat_minor": 2
}
