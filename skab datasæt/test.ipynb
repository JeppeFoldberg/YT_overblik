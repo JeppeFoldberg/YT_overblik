{
 "cells": [
  {
   "cell_type": "code",
   "execution_count": 1,
   "metadata": {},
   "outputs": [],
   "source": [
    "from bs4 import BeautifulSoup as bs\n",
    "import re\n",
    "import pandas as pd"
   ]
  },
  {
   "cell_type": "code",
   "execution_count": 2,
   "metadata": {},
   "outputs": [],
   "source": [
    "def parse_html(path): \n",
    "    with open(path) as f:\n",
    "        # read file\n",
    "        content = f.read()\n",
    "        # parse with bs\n",
    "        soup = bs(content, 'lxml')\n",
    "\n",
    "    return soup"
   ]
  },
  {
   "cell_type": "code",
   "execution_count": null,
   "metadata": {},
   "outputs": [],
   "source": [
    "watch_history = parse_html('../Rådata/Takeout/YouTube and YouTube Music/history/watch-history.html')"
   ]
  },
  {
   "cell_type": "code",
   "execution_count": 34,
   "metadata": {},
   "outputs": [],
   "source": [
    "def is_a_video(tag): \n",
    "    '''\n",
    "    Filter to remove ads\n",
    "    takes a block of html code and returns a boolean with whether this is an ad or not\n",
    "    '''\n",
    "    return not(bool(re.search('From Google Ads', tag.get_text())))\n",
    "       \n",
    " "
   ]
  },
  {
   "cell_type": "code",
   "execution_count": 35,
   "metadata": {},
   "outputs": [
    {
     "name": "stdout",
     "output_type": "stream",
     "text": [
      "30345 entries - 30308 after cleaning. 37 ads removed!\n"
     ]
    }
   ],
   "source": [
    "def parse_watch_history(soup):\n",
    "    '''takes a parsed tree of watch history (wh) from beautiful soup and returns a simple df with the relevant data'''\n",
    "    # hver yderste blok har klassen 'outer-cell mdl-cell mdl-cell--12-col mdl-shadow--2dp' - Her henter vi dem alle sammen\n",
    "    blocks = soup.find_all(class_ = 'outer-cell mdl-cell mdl-cell--12-col mdl-shadow--2dp')\n",
    "    blocks_cleaned = [block for block in blocks if is_a_video(block)]\n",
    "    print(f'{len(blocks)} entries - {len(blocks_cleaned)} after cleaning. {len(blocks) - len(blocks_cleaned)} ads removed!')\n",
    "    return blocks_cleaned\n",
    "\n",
    "# watch_history = parse_html('Rådata/Takeout/YouTube and YouTube Music/history/watch-history.html')\n",
    "\n",
    "\n",
    "watch_history_blocks = parse_watch_history(watch_history)\n",
    "\n"
   ]
  },
  {
   "cell_type": "code",
   "execution_count": 15,
   "metadata": {},
   "outputs": [],
   "source": [
    "video = watch_history_blocks[0]\n",
    "ad =  watch_history_blocks[5]"
   ]
  },
  {
   "cell_type": "code",
   "execution_count": 24,
   "metadata": {},
   "outputs": [
    {
     "data": {
      "text/plain": [
       "True"
      ]
     },
     "execution_count": 24,
     "metadata": {},
     "output_type": "execute_result"
    }
   ],
   "source": [
    "not(bool(re.search('From Google Ads', video.get_text())))"
   ]
  },
  {
   "cell_type": "code",
   "execution_count": 28,
   "metadata": {},
   "outputs": [
    {
     "data": {
      "text/plain": [
       "False"
      ]
     },
     "execution_count": 28,
     "metadata": {},
     "output_type": "execute_result"
    }
   ],
   "source": [
    "is_not_an_ad(video)"
   ]
  },
  {
   "cell_type": "code",
   "execution_count": null,
   "metadata": {},
   "outputs": [],
   "source": []
  }
 ],
 "metadata": {
  "interpreter": {
   "hash": "79533c0d0a233a1445e6036526d0f86e3fa1cf746f28d46beb4a448a63b5bfb4"
  },
  "kernelspec": {
   "display_name": "Python 3.10.4 ('yt_overblik')",
   "language": "python",
   "name": "python3"
  },
  "language_info": {
   "codemirror_mode": {
    "name": "ipython",
    "version": 3
   },
   "file_extension": ".py",
   "mimetype": "text/x-python",
   "name": "python",
   "nbconvert_exporter": "python",
   "pygments_lexer": "ipython3",
   "version": "3.10.5"
  },
  "orig_nbformat": 4
 },
 "nbformat": 4,
 "nbformat_minor": 2
}
