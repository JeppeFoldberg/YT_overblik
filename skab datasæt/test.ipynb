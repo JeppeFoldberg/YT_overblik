{
 "cells": [
  {
   "cell_type": "code",
   "execution_count": 1,
   "metadata": {},
   "outputs": [],
   "source": [
    "from bs4 import BeautifulSoup as bs\n",
    "import re\n",
    "from dateutil.parser import parse\n",
    "# from datetime import datetime\n",
    "import pandas as pd"
   ]
  },
  {
   "cell_type": "code",
   "execution_count": 2,
   "metadata": {},
   "outputs": [],
   "source": [
    "def parse_html(path): \n",
    "    with open(path) as f:\n",
    "        # read file\n",
    "        content = f.read()\n",
    "        # parse with bs\n",
    "        soup = bs(content, 'lxml')\n",
    "\n",
    "    return soup"
   ]
  },
  {
   "cell_type": "code",
   "execution_count": 3,
   "metadata": {},
   "outputs": [],
   "source": [
    "watch_history = parse_html('../Rådata/Takeout/YouTube and YouTube Music/history/watch-history.html')"
   ]
  },
  {
   "cell_type": "code",
   "execution_count": 4,
   "metadata": {},
   "outputs": [],
   "source": [
    "def is_a_video(tag): \n",
    "    '''\n",
    "    Filter to remove ads and videos that still ex\n",
    "    takes a block of html code and returns a boolean with whether this is an ad or not\n",
    "    '''\n",
    "    not_an_ad = not(bool(re.search('From Google Ads', tag.get_text())))\n",
    "    not_deleted = len(tag.find_all('a')) > 2\n",
    "    return (not_an_ad & not_deleted)\n",
    "       \n",
    " "
   ]
  },
  {
   "cell_type": "code",
   "execution_count": 5,
   "metadata": {},
   "outputs": [
    {
     "name": "stdout",
     "output_type": "stream",
     "text": [
      "30345 entries; 28332 after cleaning. 2013 ads and deleted videos removed!\n"
     ]
    }
   ],
   "source": [
    "def parse_watch_history(soup):\n",
    "    '''takes a parsed tree of watch history (wh) from beautiful soup and returns a simple df with the relevant data'''\n",
    "    # hver yderste blok har klassen 'outer-cell mdl-cell mdl-cell--12-col mdl-shadow--2dp' - Her henter vi dem alle sammen\n",
    "    blocks = soup.find_all(class_ = 'outer-cell mdl-cell mdl-cell--12-col mdl-shadow--2dp')\n",
    "    blocks_cleaned = [block for block in blocks if is_a_video(block)]\n",
    "    print(f'{len(blocks)} entries; {len(blocks_cleaned)} after cleaning. {len(blocks) - len(blocks_cleaned)} ads and deleted videos removed!')\n",
    "    return blocks_cleaned\n",
    "\n",
    "watch_history_blocks = parse_watch_history(watch_history)"
   ]
  },
  {
   "cell_type": "code",
   "execution_count": 6,
   "metadata": {},
   "outputs": [],
   "source": [
    "# Finding a video and an add for testing! \n",
    "video = watch_history_blocks[0]\n",
    "ad =  watch_history_blocks[5]"
   ]
  },
  {
   "cell_type": "markdown",
   "metadata": {},
   "source": [
    "# To create the dataset! "
   ]
  },
  {
   "cell_type": "markdown",
   "metadata": {},
   "source": [
    "Det store problem her er at få datoen til at blive hentet rigtigt fra teksten solvom der kan være overlap med titlen af kanalen (hvis den slutter på et tal) eller hvis den har en mærkelig sætning der siger hvornår den er set på - det kan forekomme i nogle tilfælde. \n",
    "\n",
    "Den foreløbige løsning er kombinationen af f og r strenge - her kan variable puttes ind i en regex. Det er vigtigt at huske på at kvantifiers i regex '{}' så skal have et dobbelt sæt klammer rund om sig!! "
   ]
  },
  {
   "cell_type": "code",
   "execution_count": 65,
   "metadata": {},
   "outputs": [],
   "source": [
    "# All of this is to find out how to do the cleansing properly - it should work now but it is here for posterity in case it needs fixing! \n",
    "watched_at_videos = [video for video in watch_history_blocks if re.search(r'Watched at \\d\\d:\\d\\d', video.text)]"
   ]
  },
  {
   "cell_type": "code",
   "execution_count": 78,
   "metadata": {},
   "outputs": [
    {
     "data": {
      "text/plain": [
       "'Watched at 22:16'"
      ]
     },
     "execution_count": 78,
     "metadata": {},
     "output_type": "execute_result"
    }
   ],
   "source": [
    "watched_at_video = watched_at_videos[0]\n",
    "watched_at_video.text\n",
    "match = re.search(r'Watched at \\d\\d:\\d\\d', watched_at_video.text)\n",
    "match.group()"
   ]
  },
  {
   "cell_type": "code",
   "execution_count": 103,
   "metadata": {},
   "outputs": [
    {
     "name": "stdout",
     "output_type": "stream",
     "text": [
      "YouTubeWatched YouTube Music Ableton Walkthroughs: Part 1Red Means RecordingWatched at 22:169 Nov 2019, 23:05:11 CESTProducts: YouTubeWhy is this here? This activity was saved to your Google Account because the following settings were on: YouTube watch history. You can control these settings  here.\n",
      "Red\\ Means\\ RecordingWatched at 22:16(\\d?\\d \\w{3,4} \\d{4}, \\d{2}:\\d{2}:\\d{2}[^P]*)\n",
      "Red\\ Means\\ RecordingWatched at 22:16(\\d?\\d \\w{3,4} \\d{4}, \\d{2}:\\d{2}:\\d{2}[^P]*) <re.Match object; span=(57, 117), match='Red Means RecordingWatched at 22:169 Nov 2019, 23>\n"
     ]
    },
    {
     "data": {
      "text/plain": [
       "'9 Nov 2019, 23:05:11 CEST'"
      ]
     },
     "execution_count": 103,
     "metadata": {},
     "output_type": "execute_result"
    }
   ],
   "source": [
    "# All of this is to find out how to do the cleansing properly - it should work now but it is here for posterity in case it needs fixing! \n",
    "\n",
    "# match = re.search(watch_history_blocks[0].text, r'\\\\n\\d?\\d \\w{3,4} \\d{4}, \\d{2}:\\d{2}:\\d{2}[^P]*')\n",
    "# print(match)\n",
    "# watch_history_blocks[0].find(class_ = 'content-cell mdl-cell mdl-cell--6-col mdl-typography--body-1').text\n",
    "block = watched_at_video\n",
    "print(block.text)\n",
    "links = block.find_all('a')\n",
    "\n",
    "channel_title = re.escape(links[1].text)\n",
    "watched_at = re.search(r'Watched at \\d\\d:\\d\\d', block.text) # Watched at 22:16\n",
    "\n",
    "if watched_at:\n",
    "   search_string = fr'{channel_title}{watched_at.group()}(\\d?\\d \\w{{3,4}} \\d{{4}}, \\d{{2}}:\\d{{2}}:\\d{{2}}[^P]*)'  \n",
    "else:\n",
    "    search_string = fr'{channel_title}(\\d?\\d \\w{{3,4}} \\d{{4}}, \\d{{2}}:\\d{{2}}:\\d{{2}}[^P]*)' \n",
    "\n",
    "print(search_string)\n",
    "\n",
    "match = re.search(search_string, block.text)\n",
    "\n",
    "print(search_string, match)\n",
    "match[1]"
   ]
  },
  {
   "cell_type": "code",
   "execution_count": 106,
   "metadata": {},
   "outputs": [],
   "source": [
    "video_titles = []\n",
    "video_links = []\n",
    "channel_titles = []\n",
    "channel_links = []\n",
    "date_watched = []\n",
    "\n",
    "# i = 0 # debugging! \n",
    "for block in watch_history_blocks:\n",
    "    links = block.find_all('a')\n",
    "    \n",
    "    video_titles.append(links[0].text)\n",
    "    video_links.append(links[0]['href'])\n",
    "    channel_title = links[1].text # get channel title for date search! \n",
    "    channel_titles.append(channel_title)\n",
    "    channel_links.append(links[1]['href'])\n",
    "\n",
    "    # Useful for debugging\n",
    "    # i += 1\n",
    "    # print(f'{len(links)} links; entry {i} with title {links[0].text}')\n",
    "\n",
    "    # find out if text has the weird watched at text so we can avoid it! \n",
    "    watched_at = re.search(r'Watched at \\d\\d:\\d\\d', block.text) \n",
    "    channel_title = re.escape(channel_title) # escape so we avoid problems with channel titles full of weird characters! \n",
    "\n",
    "    if watched_at:\n",
    "        search_string = fr'{channel_title}{watched_at.group()}(\\d?\\d \\w{{3,4}} \\d{{4}}, \\d{{2}}:\\d{{2}}:\\d{{2}}[^P]*)'  \n",
    "    else:\n",
    "        search_string = fr'{channel_title}(\\d?\\d \\w{{3,4}} \\d{{4}}, \\d{{2}}:\\d{{2}}:\\d{{2}}[^P]*)' \n",
    "\n",
    "    date_string = re.search(search_string, block.text)\n",
    "\n",
    "    if watched_at:\n",
    "        date_watched.append(parse(date_string.group(1)))\n",
    "    else:\n",
    "        date_watched.append(parse(date_string.group(1)))\n"
   ]
  },
  {
   "cell_type": "code",
   "execution_count": 102,
   "metadata": {},
   "outputs": [
    {
     "data": {
      "text/plain": [
       "'2017-08-06T23:44:53+02:00'"
      ]
     },
     "execution_count": 102,
     "metadata": {},
     "output_type": "execute_result"
    }
   ],
   "source": [
    "# date_watched.isoformat()"
   ]
  },
  {
   "cell_type": "code",
   "execution_count": 99,
   "metadata": {},
   "outputs": [],
   "source": [
    "date_string = re.search(r'\\d?\\d \\w{3} \\d{4}, \\d{2}:\\d{2}:\\d{2}[^P]*', video.text)\n"
   ]
  },
  {
   "cell_type": "code",
   "execution_count": 101,
   "metadata": {},
   "outputs": [
    {
     "data": {
      "text/plain": [
       "'9 Aug 2022, 13:27:58 CEST'"
      ]
     },
     "execution_count": 101,
     "metadata": {},
     "output_type": "execute_result"
    }
   ],
   "source": [
    "date = parse(date_string[0])\n",
    "date_string[0]"
   ]
  },
  {
   "cell_type": "code",
   "execution_count": 84,
   "metadata": {},
   "outputs": [
    {
     "data": {
      "text/plain": [
       "'2022-08-09T13:27:58+02:00'"
      ]
     },
     "execution_count": 84,
     "metadata": {},
     "output_type": "execute_result"
    }
   ],
   "source": [
    "date.isoformat()"
   ]
  },
  {
   "cell_type": "code",
   "execution_count": 107,
   "metadata": {},
   "outputs": [],
   "source": [
    "dataframe = pd.DataFrame({\n",
    "    'video_title' : video_titles,\n",
    "    'video_link' : video_links,\n",
    "    'channel_title' : channel_titles,\n",
    "    'channel_link' : channel_links,\n",
    "    'date_watched' : date_watched\n",
    "})"
   ]
  },
  {
   "cell_type": "code",
   "execution_count": 108,
   "metadata": {},
   "outputs": [
    {
     "data": {
      "text/html": [
       "<div>\n",
       "<style scoped>\n",
       "    .dataframe tbody tr th:only-of-type {\n",
       "        vertical-align: middle;\n",
       "    }\n",
       "\n",
       "    .dataframe tbody tr th {\n",
       "        vertical-align: top;\n",
       "    }\n",
       "\n",
       "    .dataframe thead th {\n",
       "        text-align: right;\n",
       "    }\n",
       "</style>\n",
       "<table border=\"1\" class=\"dataframe\">\n",
       "  <thead>\n",
       "    <tr style=\"text-align: right;\">\n",
       "      <th></th>\n",
       "      <th>video_title</th>\n",
       "      <th>video_link</th>\n",
       "      <th>channel_title</th>\n",
       "      <th>channel_link</th>\n",
       "      <th>date_watched</th>\n",
       "    </tr>\n",
       "  </thead>\n",
       "  <tbody>\n",
       "    <tr>\n",
       "      <th>0</th>\n",
       "      <td>Schrödinger's Levels - Astortion Devlog</td>\n",
       "      <td>https://www.youtube.com/watch?v=oPpzT6JKGk0</td>\n",
       "      <td>aarthificial</td>\n",
       "      <td>https://www.youtube.com/channel/UCtEwVJZABCd0t...</td>\n",
       "      <td>2022-08-09 13:27:58+02:00</td>\n",
       "    </tr>\n",
       "    <tr>\n",
       "      <th>1</th>\n",
       "      <td>John mayer - neon (after 2 years of practice)</td>\n",
       "      <td>https://www.youtube.com/watch?v=dfjTp8YdNgk</td>\n",
       "      <td>אביה מילר</td>\n",
       "      <td>https://www.youtube.com/channel/UC-z1y3pCBSgTT...</td>\n",
       "      <td>2022-08-09 13:27:39+02:00</td>\n",
       "    </tr>\n",
       "    <tr>\n",
       "      <th>2</th>\n",
       "      <td>Are Chinese watches worth it?</td>\n",
       "      <td>https://www.youtube.com/watch?v=HljYyn8U4a0</td>\n",
       "      <td>Talking Timepieces</td>\n",
       "      <td>https://www.youtube.com/channel/UCQkmGbeY6QVgw...</td>\n",
       "      <td>2022-08-09 13:13:38+02:00</td>\n",
       "    </tr>\n",
       "    <tr>\n",
       "      <th>3</th>\n",
       "      <td>An Intricate $180 Beauty! | The Sugess Moonpha...</td>\n",
       "      <td>https://www.youtube.com/watch?v=O50euB79Jjc</td>\n",
       "      <td>Tone</td>\n",
       "      <td>https://www.youtube.com/channel/UCn0vfLJzUsCFu...</td>\n",
       "      <td>2022-08-09 09:46:47+02:00</td>\n",
       "    </tr>\n",
       "    <tr>\n",
       "      <th>4</th>\n",
       "      <td>Corgeut Seamaster 300 Spectre v Omega Seamaste...</td>\n",
       "      <td>https://www.youtube.com/watch?v=93v5Bso2NDU</td>\n",
       "      <td>Wonder of Watches</td>\n",
       "      <td>https://www.youtube.com/channel/UCCPbvLaMx8P-c...</td>\n",
       "      <td>2022-08-09 09:45:38+02:00</td>\n",
       "    </tr>\n",
       "  </tbody>\n",
       "</table>\n",
       "</div>"
      ],
      "text/plain": [
       "                                         video_title  \\\n",
       "0            Schrödinger's Levels - Astortion Devlog   \n",
       "1      John mayer - neon (after 2 years of practice)   \n",
       "2                      Are Chinese watches worth it?   \n",
       "3  An Intricate $180 Beauty! | The Sugess Moonpha...   \n",
       "4  Corgeut Seamaster 300 Spectre v Omega Seamaste...   \n",
       "\n",
       "                                    video_link       channel_title  \\\n",
       "0  https://www.youtube.com/watch?v=oPpzT6JKGk0        aarthificial   \n",
       "1  https://www.youtube.com/watch?v=dfjTp8YdNgk           אביה מילר   \n",
       "2  https://www.youtube.com/watch?v=HljYyn8U4a0  Talking Timepieces   \n",
       "3  https://www.youtube.com/watch?v=O50euB79Jjc                Tone   \n",
       "4  https://www.youtube.com/watch?v=93v5Bso2NDU   Wonder of Watches   \n",
       "\n",
       "                                        channel_link              date_watched  \n",
       "0  https://www.youtube.com/channel/UCtEwVJZABCd0t... 2022-08-09 13:27:58+02:00  \n",
       "1  https://www.youtube.com/channel/UC-z1y3pCBSgTT... 2022-08-09 13:27:39+02:00  \n",
       "2  https://www.youtube.com/channel/UCQkmGbeY6QVgw... 2022-08-09 13:13:38+02:00  \n",
       "3  https://www.youtube.com/channel/UCn0vfLJzUsCFu... 2022-08-09 09:46:47+02:00  \n",
       "4  https://www.youtube.com/channel/UCCPbvLaMx8P-c... 2022-08-09 09:45:38+02:00  "
      ]
     },
     "execution_count": 108,
     "metadata": {},
     "output_type": "execute_result"
    }
   ],
   "source": [
    "dataframe.head()"
   ]
  },
  {
   "cell_type": "code",
   "execution_count": 109,
   "metadata": {},
   "outputs": [
    {
     "data": {
      "text/plain": [
       "video_title                         object\n",
       "video_link                          object\n",
       "channel_title                       object\n",
       "channel_link                        object\n",
       "date_watched     datetime64[ns, tzlocal()]\n",
       "dtype: object"
      ]
     },
     "execution_count": 109,
     "metadata": {},
     "output_type": "execute_result"
    }
   ],
   "source": [
    "dataframe.dtypes"
   ]
  },
  {
   "cell_type": "code",
   "execution_count": null,
   "metadata": {},
   "outputs": [],
   "source": []
  }
 ],
 "metadata": {
  "interpreter": {
   "hash": "79533c0d0a233a1445e6036526d0f86e3fa1cf746f28d46beb4a448a63b5bfb4"
  },
  "kernelspec": {
   "display_name": "Python 3.10.4 ('yt_overblik')",
   "language": "python",
   "name": "python3"
  },
  "language_info": {
   "codemirror_mode": {
    "name": "ipython",
    "version": 3
   },
   "file_extension": ".py",
   "mimetype": "text/x-python",
   "name": "python",
   "nbconvert_exporter": "python",
   "pygments_lexer": "ipython3",
   "version": "3.10.5"
  },
  "orig_nbformat": 4
 },
 "nbformat": 4,
 "nbformat_minor": 2
}
